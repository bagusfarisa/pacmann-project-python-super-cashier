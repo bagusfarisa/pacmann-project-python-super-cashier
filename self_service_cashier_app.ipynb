{
 "cells": [
  {
   "cell_type": "markdown",
   "id": "57c81a47",
   "metadata": {},
   "source": [
    "# Project - Pyhton 1: Self-Service Cashier App"
   ]
  },
  {
   "cell_type": "markdown",
   "id": "58911865",
   "metadata": {},
   "source": [
    "## Create Class \"Transaction\" and Its Methods"
   ]
  },
  {
   "cell_type": "code",
   "execution_count": 932,
   "id": "e21fc8c4",
   "metadata": {},
   "outputs": [],
   "source": [
    "class Transaction:\n",
    "    \n",
    "    # Function to iniate the class object containing an \"order\" dictionary\n",
    "    def __init__(self):\n",
    "        order = {}\n",
    "        self.order = order\n",
    "        self.show_order_table()\n",
    "        \n",
    "    \n",
    "    # Function to display the shopping items and price as a table\n",
    "    def show_order_table(self):\n",
    "        self.column_spacing = \"|{:<4}|{:<12}|{:>12}|{:>12}|{:>12}|\"\n",
    "    \n",
    "        # Print the table header\n",
    "        print(self.column_spacing.format('No','Nama Item','Jumlah Item','Harga/Item','Harga Total'))\n",
    "        \n",
    "        n = 1\n",
    "        for key, value in self.order.items():\n",
    "            no = n \n",
    "            item_name = key\n",
    "            item_qty = value[0]\n",
    "            item_price = value[1]\n",
    "            amount = item_qty * item_price\n",
    "            \n",
    "            # Print the defined variables\n",
    "            print(self.column_spacing.format(no, item_name, item_qty, item_price, amount))\n",
    "            n += 1\n",
    "        \n",
    "    \n",
    "    # Function to add a new key and values to the transaction Dictionary\n",
    "    def add_item(self, item_name, item_qty, item_price):\n",
    "        self.item_name = item_name\n",
    "        self.item_qty = item_qty\n",
    "        self.item_price = item_price\n",
    "        \n",
    "        self.order[self.item_name] = [self.item_qty, self.item_price]\n",
    "        self.show_order_table()\n",
    "        \n",
    "        \n",
    "    # Function to change the key name of an order item\n",
    "    def update_item_name(self, item_name, new_item_name):\n",
    "        self.item_name = item_name\n",
    "        self.new_item_name = new_item_name\n",
    "        \n",
    "        self.order[self.new_item_name] = self.order[self.item_name] # Duplicate the old key to the new one\n",
    "        del self.order[self.item_name] # Delete the old key\n",
    "        self.show_order_table()\n",
    "        \n",
    "    \n",
    "    # Function to change the quantity of an order item\n",
    "    def update_item_qty(self, item_name, new_item_qty):\n",
    "        self.item_name = item_name\n",
    "        self.new_item_qty = new_item_qty\n",
    "        \n",
    "        self.order[self.item_name][0] = self.new_item_qty\n",
    "        self.show_order_table()\n",
    "        \n",
    "    \n",
    "    # Function to change the price of an order item\n",
    "    def update_item_price(self, item_name, new_item_price):\n",
    "        self.item_name = item_name\n",
    "        self.new_item_price = new_item_price\n",
    "        \n",
    "        self.order[self.item_name][1] = self.new_item_price\n",
    "        self.show_order_table()\n",
    "        \n",
    "    \n",
    "    # Function to delete an order item (its key and values)\n",
    "    def delete_item(self, item_name):\n",
    "        self.item_name = item_name\n",
    "        \n",
    "        del self.order[self.item_name]\n",
    "        self.show_order_table()\n",
    "        \n",
    "    \n",
    "    # Function to delete all order items\n",
    "    def reset_transaction(self):\n",
    "        order = {}\n",
    "        self.order = order\n",
    "        self.show_order_table()\n",
    "    \n",
    "    \n",
    "    def check_order(self):\n",
    "        for key, value in self.order.items():\n",
    "            item_name = key\n",
    "            item_qty = value[0]\n",
    "            item_price = value[1]\n",
    "            \n",
    "            if type(item_name) == str and type(item_qty) == int and type(item_price) == int:\n",
    "                print(f\"[v] {item_name :<12}: data sudah sesuai.\")           \n",
    "            else:\n",
    "                if type(item_name) != str:\n",
    "                    print(f\"[x] {item_name :<12}: nama barang harus berupa teks.\")\n",
    "                else:\n",
    "                    pass   \n",
    "                \n",
    "                if type(item_qty) != int:\n",
    "                    print(f\"[x] {item_name :<12}: jumlah item harus berupa angka.\")\n",
    "                else:\n",
    "                    pass\n",
    "\n",
    "                if type(item_price) != int:\n",
    "                    print(f\"[x] {item_name :<12}: harga item harus berupa angka.\")\n",
    "                else:\n",
    "                    pass\n",
    "            \n",
    "    \n",
    "    \n",
    "    # Function to calculate the total price of the order items\n",
    "    def total_price(self):\n",
    "        self.total_price = 0\n",
    "        for value in self.order.values():\n",
    "            item_qty = value[0]\n",
    "            item_price = value[1]\n",
    "            self.total_price += (item_qty * item_price)\n",
    "            \n",
    "        self.is_discounted(self.total_price)\n",
    "        \n",
    "    \n",
    "    # Function to check whether a transaction gets a discount or not\n",
    "    def is_discounted(self, total_price):\n",
    "        self.total_price = total_price\n",
    "        if self.total_price > 500000:\n",
    "            is_discounted = True\n",
    "            discount = \"10%\"\n",
    "            discounted_price = total_price * (1 - 0.1)\n",
    "        elif total_price > 300000:\n",
    "            is_discounted = True\n",
    "            discount = \"8%\"\n",
    "            discounted_price = total_price * (1 - 0.08)\n",
    "        elif total_price > 200000:\n",
    "            is_discounted = True\n",
    "            discount = \"5%\"\n",
    "            discounted_price = total_price * (1 - 0.05)\n",
    "        else:\n",
    "            is_discounted = False\n",
    "        \n",
    "        if is_discounted == True:\n",
    "            print(f\"Total belanja Anda: Rp{total_price}.\")\n",
    "            print(f\"Anda mendapat diskon {discount}.\")\n",
    "            print(f\"Anda hanya perlu membayar: Rp{discounted_price}.\")\n",
    "        else:\n",
    "            print(f\"Total belanja Anda: Rp{total_price}.\")\n",
    "            print(\"Belanja di atas Rp200.000 untuk mendapat diskon.\")"
   ]
  },
  {
   "cell_type": "markdown",
   "id": "52840e97",
   "metadata": {},
   "source": [
    "## Create a new object from the Class"
   ]
  },
  {
   "cell_type": "code",
   "execution_count": 933,
   "id": "17ac9d15",
   "metadata": {},
   "outputs": [
    {
     "name": "stdout",
     "output_type": "stream",
     "text": [
      "|No  |Nama Item   | Jumlah Item|  Harga/Item| Harga Total|\n"
     ]
    }
   ],
   "source": [
    "trnsct_123 = Transaction()"
   ]
  },
  {
   "cell_type": "markdown",
   "id": "cf66b921",
   "metadata": {},
   "source": [
    "## Add item: Semangka x3 @15.000"
   ]
  },
  {
   "cell_type": "code",
   "execution_count": 934,
   "id": "e0d79ea8",
   "metadata": {},
   "outputs": [
    {
     "name": "stdout",
     "output_type": "stream",
     "text": [
      "|No  |Nama Item   | Jumlah Item|  Harga/Item| Harga Total|\n",
      "|1   |Semangka    |           3|       15000|       45000|\n"
     ]
    }
   ],
   "source": [
    "trnsct_123.add_item(\"Semangka\", 3, 15000)"
   ]
  },
  {
   "cell_type": "code",
   "execution_count": 935,
   "id": "05d08599",
   "metadata": {
    "scrolled": true
   },
   "outputs": [
    {
     "name": "stdout",
     "output_type": "stream",
     "text": [
      "{'Semangka': [3, 15000]}\n"
     ]
    }
   ],
   "source": [
    "print(trnsct_123.order)"
   ]
  },
  {
   "cell_type": "markdown",
   "id": "ef8a0bdd",
   "metadata": {},
   "source": [
    "## Add item: Kemoceng x2 @10.000"
   ]
  },
  {
   "cell_type": "code",
   "execution_count": 936,
   "id": "845b6dca",
   "metadata": {},
   "outputs": [
    {
     "name": "stdout",
     "output_type": "stream",
     "text": [
      "|No  |Nama Item   | Jumlah Item|  Harga/Item| Harga Total|\n",
      "|1   |Semangka    |           3|       15000|       45000|\n",
      "|2   |Kemoceng    |           2|       10000|       20000|\n"
     ]
    }
   ],
   "source": [
    "trnsct_123.add_item(\"Kemoceng\", 2, 10000)"
   ]
  },
  {
   "cell_type": "code",
   "execution_count": 937,
   "id": "0fdda1cf",
   "metadata": {},
   "outputs": [
    {
     "name": "stdout",
     "output_type": "stream",
     "text": [
      "|No  |Nama Item   | Jumlah Item|  Harga/Item| Harga Total|\n"
     ]
    }
   ],
   "source": [
    "order_2 = Transaction()"
   ]
  },
  {
   "cell_type": "code",
   "execution_count": 938,
   "id": "7cbeb985",
   "metadata": {},
   "outputs": [
    {
     "name": "stdout",
     "output_type": "stream",
     "text": [
      "|No  |Nama Item   | Jumlah Item|  Harga/Item| Harga Total|\n",
      "|1   |Keju        |           2|        4000|        8000|\n"
     ]
    }
   ],
   "source": [
    "order_2.add_item(\"Keju\", 2, 4000)"
   ]
  },
  {
   "cell_type": "code",
   "execution_count": 939,
   "id": "2645a84c",
   "metadata": {},
   "outputs": [
    {
     "name": "stdout",
     "output_type": "stream",
     "text": [
      "{'Keju': [2, 4000]}\n"
     ]
    }
   ],
   "source": [
    "print(order_2.order)"
   ]
  },
  {
   "cell_type": "code",
   "execution_count": 940,
   "id": "5bba9855",
   "metadata": {},
   "outputs": [
    {
     "name": "stdout",
     "output_type": "stream",
     "text": [
      "{'Semangka': [3, 15000], 'Kemoceng': [2, 10000]}\n"
     ]
    }
   ],
   "source": [
    "print(trnsct_123.order)"
   ]
  },
  {
   "cell_type": "markdown",
   "id": "3c1ed83e",
   "metadata": {},
   "source": [
    "## Update item name: Semangka -> Keju"
   ]
  },
  {
   "cell_type": "code",
   "execution_count": 941,
   "id": "0a946e06",
   "metadata": {},
   "outputs": [
    {
     "name": "stdout",
     "output_type": "stream",
     "text": [
      "|No  |Nama Item   | Jumlah Item|  Harga/Item| Harga Total|\n",
      "|1   |Kemoceng    |           2|       10000|       20000|\n",
      "|2   |Keju        |           3|       15000|       45000|\n"
     ]
    }
   ],
   "source": [
    "trnsct_123.update_item_name(\"Semangka\", \"Keju\")"
   ]
  },
  {
   "cell_type": "markdown",
   "id": "2d2d9088",
   "metadata": {},
   "source": [
    "## Update item qty: Keju x3 -> x5"
   ]
  },
  {
   "cell_type": "code",
   "execution_count": 942,
   "id": "59f7fba3",
   "metadata": {
    "scrolled": false
   },
   "outputs": [
    {
     "name": "stdout",
     "output_type": "stream",
     "text": [
      "|No  |Nama Item   | Jumlah Item|  Harga/Item| Harga Total|\n",
      "|1   |Kemoceng    |           2|       10000|       20000|\n",
      "|2   |Keju        |           5|       15000|       75000|\n"
     ]
    }
   ],
   "source": [
    "trnsct_123.update_item_qty(\"Keju\", 5)"
   ]
  },
  {
   "cell_type": "markdown",
   "id": "9b340a7b",
   "metadata": {},
   "source": [
    "## Update item price: Keju @15.000 -> @25.000"
   ]
  },
  {
   "cell_type": "code",
   "execution_count": 943,
   "id": "b7f39bc3",
   "metadata": {},
   "outputs": [
    {
     "name": "stdout",
     "output_type": "stream",
     "text": [
      "|No  |Nama Item   | Jumlah Item|  Harga/Item| Harga Total|\n",
      "|1   |Kemoceng    |           2|       10000|       20000|\n",
      "|2   |Keju        |           5|       25000|      125000|\n"
     ]
    }
   ],
   "source": [
    "trnsct_123.update_item_price(\"Keju\", 25000)"
   ]
  },
  {
   "cell_type": "markdown",
   "id": "9e7d094d",
   "metadata": {},
   "source": [
    "## Delete item: Keju"
   ]
  },
  {
   "cell_type": "code",
   "execution_count": 944,
   "id": "ddb31899",
   "metadata": {
    "scrolled": false
   },
   "outputs": [
    {
     "name": "stdout",
     "output_type": "stream",
     "text": [
      "|No  |Nama Item   | Jumlah Item|  Harga/Item| Harga Total|\n",
      "|1   |Kemoceng    |           2|       10000|       20000|\n"
     ]
    }
   ],
   "source": [
    "trnsct_123.delete_item(\"Keju\")"
   ]
  },
  {
   "cell_type": "markdown",
   "id": "395c14e9",
   "metadata": {},
   "source": [
    "## Add several other items"
   ]
  },
  {
   "cell_type": "code",
   "execution_count": 945,
   "id": "d392bdfd",
   "metadata": {
    "scrolled": true
   },
   "outputs": [
    {
     "name": "stdout",
     "output_type": "stream",
     "text": [
      "|No  |Nama Item   | Jumlah Item|  Harga/Item| Harga Total|\n",
      "|1   |Kemoceng    |           2|       10000|       20000|\n",
      "|2   |Sabun       |           4|        5000|       20000|\n"
     ]
    }
   ],
   "source": [
    "trnsct_123.add_item(\"Sabun\", 4, 5000)"
   ]
  },
  {
   "cell_type": "code",
   "execution_count": 946,
   "id": "3b082de1",
   "metadata": {},
   "outputs": [
    {
     "name": "stdout",
     "output_type": "stream",
     "text": [
      "|No  |Nama Item   | Jumlah Item|  Harga/Item| Harga Total|\n",
      "|1   |Kemoceng    |           2|       10000|       20000|\n",
      "|2   |Sabun       |           4|        5000|       20000|\n",
      "|3   |Odol        |           3|       23000|       69000|\n"
     ]
    }
   ],
   "source": [
    "trnsct_123.add_item(\"Odol\", 3, 23000)"
   ]
  },
  {
   "cell_type": "code",
   "execution_count": 947,
   "id": "c968986e",
   "metadata": {},
   "outputs": [
    {
     "name": "stdout",
     "output_type": "stream",
     "text": [
      "|No  |Nama Item   | Jumlah Item|  Harga/Item| Harga Total|\n",
      "|1   |Kemoceng    |           2|       10000|       20000|\n",
      "|2   |Sabun       |           4|        5000|       20000|\n",
      "|3   |Odol        |           3|       23000|       69000|\n",
      "|4   |12345       |           3|       17000|       51000|\n"
     ]
    }
   ],
   "source": [
    "trnsct_123.add_item(12345, 3, 17000)"
   ]
  },
  {
   "cell_type": "code",
   "execution_count": 948,
   "id": "e04ec269",
   "metadata": {},
   "outputs": [
    {
     "name": "stdout",
     "output_type": "stream",
     "text": [
      "|No  |Nama Item   | Jumlah Item|  Harga/Item| Harga Total|\n",
      "|1   |Kemoceng    |           2|       10000|       20000|\n",
      "|2   |Sabun       |           4|        5000|       20000|\n",
      "|3   |Odol        |           3|       23000|       69000|\n",
      "|4   |12345       |           3|       17000|       51000|\n",
      "|5   |Handuk      |           2|        3000|222222222222222222222222222222222222222222222222222222222222222222222222222222222222222222222222222222222222222222222222222222222222222222222222222222222222222222222222222222222222222222222222222222222222222222222222222222222222222222222222222222222222222222222222222222222222222222222222222222222222222222222222222222222222222222222222222222222222222222222222222222222222222222222222222222222222222222222222222222222222222222222222222222222222222222222222222222222222222222222222222222222222222222222222222222222222222222222222222222222222222222222222222222222222222222222222222222222222222222222222222222222222222222222222222222222222222222222222222222222222222222222222222222222222222222222222222222222222222222222222222222222222222222222222222222222222222222222222222222222222222222222222222222222222222222222222222222222222222222222222222222222222222222222222222222222222222222222222222222222222222222222222222222222222222222222222222222222222222222222222222222222222222222222222222222222222222222222222222222222222222222222222222222222222222222222222222222222222222222222222222222222222222222222222222222222222222222222222222222222222222222222222222222222222222222222222222222222222222222222222222222222222222222222222222222222222222222222222222222222222222222222222222222222222222222222222222222222222222222222222222222222222222222222222222222222222222222222222222222222222222222222222222222222222222222222222222222222222222222222222222222222222222222222222222222222222222222222222222222222222222222222222222222222222222222222222222222222222222222222222222222222222222222222222222222222222222222222222222222222222222222222222222222222222222222222222222222222222222222222222222222222222222222222222222222222222222222222222222222222222222222222222222222222222222222222222222222222222222222222222222222222222222222222222222222222222222222222222222222222222222222222222222222222222222222222222222222222222222222222222222222222222222222222222222222222222222222222222222222222222222222222222222222222222222222222222222222222222222222222222222222222222222222222222222222222222222222222222222222222222222222222222222222222222222222222222222222222222222222222222222222222222222222222222222222222222222222222222222222222222222222222222222222222222222222222222222222222222222222222222222222222222222222222222222222222222222222222222222222222222222222222222222222222222222222222222222222222222222222222222222222222222222222222222222222222222222222222222222222222222222222222222222222222222222222222222222222222222222222222222222222222222222222222222222222222222222222222222222222222222222222222222222222222222222222222222222222222222222222222222222222222222222222222222222222222222222222222222222222222222222222222222222222222222222222222222222222222222222222222222222222222222222222222222222222222222222222222222222222222222222222222222222222222222222222222222222222222222222222222222222222222222222222222222222222222222222222222222222222222222222222222222222222222222222222222222222222222222222222222222|\n"
     ]
    }
   ],
   "source": [
    "trnsct_123.add_item(\"Handuk\", \"2\", 3000)"
   ]
  },
  {
   "cell_type": "code",
   "execution_count": 949,
   "id": "888e1446",
   "metadata": {},
   "outputs": [
    {
     "name": "stdout",
     "output_type": "stream",
     "text": [
      "|No  |Nama Item   | Jumlah Item|  Harga/Item| Harga Total|\n",
      "|1   |Kemoceng    |           2|       10000|       20000|\n",
      "|2   |Sabun       |           4|        5000|       20000|\n",
      "|3   |Odol        |           3|       23000|       69000|\n",
      "|4   |12345       |           3|       17000|       51000|\n",
      "|5   |Handuk      |           2|        3000|222222222222222222222222222222222222222222222222222222222222222222222222222222222222222222222222222222222222222222222222222222222222222222222222222222222222222222222222222222222222222222222222222222222222222222222222222222222222222222222222222222222222222222222222222222222222222222222222222222222222222222222222222222222222222222222222222222222222222222222222222222222222222222222222222222222222222222222222222222222222222222222222222222222222222222222222222222222222222222222222222222222222222222222222222222222222222222222222222222222222222222222222222222222222222222222222222222222222222222222222222222222222222222222222222222222222222222222222222222222222222222222222222222222222222222222222222222222222222222222222222222222222222222222222222222222222222222222222222222222222222222222222222222222222222222222222222222222222222222222222222222222222222222222222222222222222222222222222222222222222222222222222222222222222222222222222222222222222222222222222222222222222222222222222222222222222222222222222222222222222222222222222222222222222222222222222222222222222222222222222222222222222222222222222222222222222222222222222222222222222222222222222222222222222222222222222222222222222222222222222222222222222222222222222222222222222222222222222222222222222222222222222222222222222222222222222222222222222222222222222222222222222222222222222222222222222222222222222222222222222222222222222222222222222222222222222222222222222222222222222222222222222222222222222222222222222222222222222222222222222222222222222222222222222222222222222222222222222222222222222222222222222222222222222222222222222222222222222222222222222222222222222222222222222222222222222222222222222222222222222222222222222222222222222222222222222222222222222222222222222222222222222222222222222222222222222222222222222222222222222222222222222222222222222222222222222222222222222222222222222222222222222222222222222222222222222222222222222222222222222222222222222222222222222222222222222222222222222222222222222222222222222222222222222222222222222222222222222222222222222222222222222222222222222222222222222222222222222222222222222222222222222222222222222222222222222222222222222222222222222222222222222222222222222222222222222222222222222222222222222222222222222222222222222222222222222222222222222222222222222222222222222222222222222222222222222222222222222222222222222222222222222222222222222222222222222222222222222222222222222222222222222222222222222222222222222222222222222222222222222222222222222222222222222222222222222222222222222222222222222222222222222222222222222222222222222222222222222222222222222222222222222222222222222222222222222222222222222222222222222222222222222222222222222222222222222222222222222222222222222222222222222222222222222222222222222222222222222222222222222222222222222222222222222222222222222222222222222222222222222222222222222222222222222222222222222222222222222222222222222222222222222222222222222222222222222222222222222222222222222222222222222222222222222222222222222222222222222222222222222|\n",
      "|6   |Deterjen    |           5|       38000|3800038000380003800038000|\n"
     ]
    }
   ],
   "source": [
    "trnsct_123.add_item(\"Deterjen\", 5, \"38000\")"
   ]
  },
  {
   "cell_type": "markdown",
   "id": "1d7836ef",
   "metadata": {},
   "source": [
    "## Check the order items data"
   ]
  },
  {
   "cell_type": "code",
   "execution_count": 950,
   "id": "f3e73b03",
   "metadata": {
    "scrolled": false
   },
   "outputs": [
    {
     "name": "stdout",
     "output_type": "stream",
     "text": [
      "[v] Kemoceng    : data sudah sesuai.\n",
      "[v] Sabun       : data sudah sesuai.\n",
      "[v] Odol        : data sudah sesuai.\n",
      "[x] 12345       : nama barang harus berupa teks.\n",
      "[x] Handuk      : jumlah item harus berupa angka.\n",
      "[x] Deterjen    : harga item harus berupa angka.\n"
     ]
    }
   ],
   "source": [
    "trnsct_123.check_order()"
   ]
  },
  {
   "cell_type": "markdown",
   "id": "7ebc39a2",
   "metadata": {},
   "source": [
    "## Correct the false order items"
   ]
  },
  {
   "cell_type": "code",
   "execution_count": 951,
   "id": "1d5789b6",
   "metadata": {},
   "outputs": [
    {
     "name": "stdout",
     "output_type": "stream",
     "text": [
      "|No  |Nama Item   | Jumlah Item|  Harga/Item| Harga Total|\n",
      "|1   |Kemoceng    |           2|       10000|       20000|\n",
      "|2   |Sabun       |           4|        5000|       20000|\n",
      "|3   |Odol        |           3|       23000|       69000|\n",
      "|4   |Handuk      |           2|        3000|222222222222222222222222222222222222222222222222222222222222222222222222222222222222222222222222222222222222222222222222222222222222222222222222222222222222222222222222222222222222222222222222222222222222222222222222222222222222222222222222222222222222222222222222222222222222222222222222222222222222222222222222222222222222222222222222222222222222222222222222222222222222222222222222222222222222222222222222222222222222222222222222222222222222222222222222222222222222222222222222222222222222222222222222222222222222222222222222222222222222222222222222222222222222222222222222222222222222222222222222222222222222222222222222222222222222222222222222222222222222222222222222222222222222222222222222222222222222222222222222222222222222222222222222222222222222222222222222222222222222222222222222222222222222222222222222222222222222222222222222222222222222222222222222222222222222222222222222222222222222222222222222222222222222222222222222222222222222222222222222222222222222222222222222222222222222222222222222222222222222222222222222222222222222222222222222222222222222222222222222222222222222222222222222222222222222222222222222222222222222222222222222222222222222222222222222222222222222222222222222222222222222222222222222222222222222222222222222222222222222222222222222222222222222222222222222222222222222222222222222222222222222222222222222222222222222222222222222222222222222222222222222222222222222222222222222222222222222222222222222222222222222222222222222222222222222222222222222222222222222222222222222222222222222222222222222222222222222222222222222222222222222222222222222222222222222222222222222222222222222222222222222222222222222222222222222222222222222222222222222222222222222222222222222222222222222222222222222222222222222222222222222222222222222222222222222222222222222222222222222222222222222222222222222222222222222222222222222222222222222222222222222222222222222222222222222222222222222222222222222222222222222222222222222222222222222222222222222222222222222222222222222222222222222222222222222222222222222222222222222222222222222222222222222222222222222222222222222222222222222222222222222222222222222222222222222222222222222222222222222222222222222222222222222222222222222222222222222222222222222222222222222222222222222222222222222222222222222222222222222222222222222222222222222222222222222222222222222222222222222222222222222222222222222222222222222222222222222222222222222222222222222222222222222222222222222222222222222222222222222222222222222222222222222222222222222222222222222222222222222222222222222222222222222222222222222222222222222222222222222222222222222222222222222222222222222222222222222222222222222222222222222222222222222222222222222222222222222222222222222222222222222222222222222222222222222222222222222222222222222222222222222222222222222222222222222222222222222222222222222222222222222222222222222222222222222222222222222222222222222222222222222222222222222222222222222222222222222222222222222222222222222222222222222222222222222222222222222222222222222|\n",
      "|5   |Deterjen    |           5|       38000|3800038000380003800038000|\n",
      "|6   |Sikat gigi  |           3|       17000|       51000|\n"
     ]
    }
   ],
   "source": [
    "trnsct_123.update_item_name(12345, \"Sikat gigi\")"
   ]
  },
  {
   "cell_type": "code",
   "execution_count": 952,
   "id": "1f9176f9",
   "metadata": {},
   "outputs": [
    {
     "name": "stdout",
     "output_type": "stream",
     "text": [
      "|No  |Nama Item   | Jumlah Item|  Harga/Item| Harga Total|\n",
      "|1   |Kemoceng    |           2|       10000|       20000|\n",
      "|2   |Sabun       |           4|        5000|       20000|\n",
      "|3   |Odol        |           3|       23000|       69000|\n",
      "|4   |Handuk      |           2|        3000|        6000|\n",
      "|5   |Deterjen    |           5|       38000|3800038000380003800038000|\n",
      "|6   |Sikat gigi  |           3|       17000|       51000|\n"
     ]
    }
   ],
   "source": [
    "trnsct_123.update_item_qty(\"Handuk\", 2)"
   ]
  },
  {
   "cell_type": "code",
   "execution_count": 953,
   "id": "8e57e237",
   "metadata": {},
   "outputs": [
    {
     "name": "stdout",
     "output_type": "stream",
     "text": [
      "|No  |Nama Item   | Jumlah Item|  Harga/Item| Harga Total|\n",
      "|1   |Kemoceng    |           2|       10000|       20000|\n",
      "|2   |Sabun       |           4|        5000|       20000|\n",
      "|3   |Odol        |           3|       23000|       69000|\n",
      "|4   |Handuk      |           2|        3000|        6000|\n",
      "|5   |Deterjen    |           5|       38000|      190000|\n",
      "|6   |Sikat gigi  |           3|       17000|       51000|\n"
     ]
    }
   ],
   "source": [
    "trnsct_123.update_item_price(\"Deterjen\", 38000)"
   ]
  },
  {
   "cell_type": "markdown",
   "id": "df06797f",
   "metadata": {},
   "source": [
    "## Re-check the data"
   ]
  },
  {
   "cell_type": "code",
   "execution_count": 954,
   "id": "18e19a87",
   "metadata": {
    "scrolled": true
   },
   "outputs": [
    {
     "name": "stdout",
     "output_type": "stream",
     "text": [
      "[v] Kemoceng    : data sudah sesuai.\n",
      "[v] Sabun       : data sudah sesuai.\n",
      "[v] Odol        : data sudah sesuai.\n",
      "[v] Handuk      : data sudah sesuai.\n",
      "[v] Deterjen    : data sudah sesuai.\n",
      "[v] Sikat gigi  : data sudah sesuai.\n"
     ]
    }
   ],
   "source": [
    "trnsct_123.check_order()"
   ]
  },
  {
   "cell_type": "markdown",
   "id": "0df92d71",
   "metadata": {},
   "source": [
    "## Get the total transaction cost"
   ]
  },
  {
   "cell_type": "code",
   "execution_count": 955,
   "id": "ca7caf5a",
   "metadata": {},
   "outputs": [
    {
     "name": "stdout",
     "output_type": "stream",
     "text": [
      "Total belanja Anda: Rp356000.\n",
      "Anda mendapat diskon 8%.\n",
      "Anda hanya perlu membayar: Rp327520.0.\n"
     ]
    }
   ],
   "source": [
    "trnsct_123.total_price()"
   ]
  },
  {
   "cell_type": "markdown",
   "id": "1e873180",
   "metadata": {},
   "source": [
    "## Reset Transaction"
   ]
  },
  {
   "cell_type": "code",
   "execution_count": 956,
   "id": "39355f71",
   "metadata": {
    "scrolled": true
   },
   "outputs": [
    {
     "name": "stdout",
     "output_type": "stream",
     "text": [
      "|No  |Nama Item   | Jumlah Item|  Harga/Item| Harga Total|\n"
     ]
    }
   ],
   "source": [
    "trnsct_123.reset_transaction()"
   ]
  },
  {
   "cell_type": "code",
   "execution_count": null,
   "id": "b5eb88fe",
   "metadata": {},
   "outputs": [],
   "source": []
  }
 ],
 "metadata": {
  "kernelspec": {
   "display_name": "Python 3 (ipykernel)",
   "language": "python",
   "name": "python3"
  },
  "language_info": {
   "codemirror_mode": {
    "name": "ipython",
    "version": 3
   },
   "file_extension": ".py",
   "mimetype": "text/x-python",
   "name": "python",
   "nbconvert_exporter": "python",
   "pygments_lexer": "ipython3",
   "version": "3.9.12"
  }
 },
 "nbformat": 4,
 "nbformat_minor": 5
}

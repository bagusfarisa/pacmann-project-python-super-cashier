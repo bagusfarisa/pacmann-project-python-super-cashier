{
 "cells": [
  {
   "cell_type": "markdown",
   "id": "57c81a47",
   "metadata": {},
   "source": [
    "# Project - Pyhton 1: Self-Service Cashier App"
   ]
  },
  {
   "cell_type": "markdown",
   "id": "58911865",
   "metadata": {},
   "source": [
    "## Create Class \"Transaction\" and Its Methods"
   ]
  },
  {
   "cell_type": "code",
   "execution_count": 809,
   "id": "e21fc8c4",
   "metadata": {},
   "outputs": [],
   "source": [
    "class Transaction:\n",
    "    '''\n",
    "    Attributes\n",
    "    ----------\n",
    "    order_items = {}\n",
    "        Dictionary containing the items ordered for the transaction.\n",
    "    \n",
    "    Methods\n",
    "    --------\n",
    "    show_order_table(order_items): \n",
    "        Show the list of items ordered as a table.\n",
    "        \n",
    "    add_item(item_name, item_qty, item_price):\n",
    "        Add an item to the transaction.\n",
    "\n",
    "    update_item_name(item_name, new_item_name): \n",
    "        Update the name of an item.\n",
    "\n",
    "    update_item_qty(item_name, new_item_qty): \n",
    "        Update the quantity of an item.\n",
    "        \n",
    "    update_item_price(item_name, new_item_price): \n",
    "        Update the price of an item.\n",
    "    \n",
    "    delete_item(item_name): \n",
    "        Delete an item by its name.\n",
    "        \n",
    "    reset_transaction(): \n",
    "        Delete all the items in the transaction.\n",
    "\n",
    "    check_order(): \n",
    "        Check whether the values inputted to the transaction are correct or not.\n",
    "    \n",
    "    total_price(): \n",
    "        Check the total price of all items ordered for the transaction.\n",
    "    \n",
    "    is_discounted(total_price): \n",
    "        Check whether a transaction will be dicounted or not.\n",
    "    '''\n",
    "    \n",
    "    order_items = {}\n",
    "    \n",
    "    # Method to iniate the class object containing an \"order\" dictionary\n",
    "    def __init__(self):\n",
    "        self.order = self.order_items\n",
    "        self.show_order_table(self.order) # Show the order table\n",
    "        \n",
    "    \n",
    "    # Method to display the shopping items and price as a table\n",
    "    def show_order_table(self, order_items):\n",
    "        '''\n",
    "        Show the list of the items ordered for the transaction as a table.\n",
    "        \n",
    "        Parameters\n",
    "        ----------\n",
    "            order_items : dict\n",
    "                dict of items ordered for the transaction\n",
    "        '''\n",
    "        \n",
    "        self.order = order_items\n",
    "        self.column_spacing = \"|{:<4}|{:<12}|{:>12}|{:>12}|{:>12}|\"\n",
    "    \n",
    "        # Print the table header\n",
    "        print(self.column_spacing.format('No','Nama Item','Jumlah Item','Harga/Item','Harga Total'))\n",
    "        \n",
    "        n = 1\n",
    "        \n",
    "        for key, value in self.order.items():\n",
    "            no = n \n",
    "            item_name = key\n",
    "            item_qty = value[0]\n",
    "            item_price = value[1]\n",
    "            amount = item_qty * item_price\n",
    "            # Print the defined variables\n",
    "            print(self.column_spacing.format(no, item_name, item_qty, item_price, amount))\n",
    "            n += 1\n",
    "        \n",
    "    \n",
    "    # Method to add a new key and values to the transaction Dictionary\n",
    "    def add_item(self, item_name, item_qty, item_price):\n",
    "        '''\n",
    "        Add an item to the transaction.\n",
    "        \n",
    "        Parameters\n",
    "        ----------\n",
    "            item_name : str\n",
    "                name of the item\n",
    "                \n",
    "            item_qty : int\n",
    "                quantity of the item\n",
    "                \n",
    "            item_price : int\n",
    "                unit price of the item\n",
    "        '''\n",
    "        self.item_name = str(item_name)\n",
    "        try:\n",
    "            self.item_qty = int(item_qty)\n",
    "            self.item_price = int(item_price)\n",
    "            self.order[self.item_name] = [self.item_qty, self.item_price]\n",
    "        except:\n",
    "            print(\"Tidak dapat menambahkan item. \\nJumlah dan harga item harus berupa angka.\\n\")\n",
    "        self.show_order_table(self.order) # Show the order table\n",
    "        \n",
    "        \n",
    "    # Method to change the key name of an order item\n",
    "    def update_item_name(self, item_name, new_item_name):\n",
    "        '''\n",
    "        Update the name of an item.\n",
    "        \n",
    "        Parameters\n",
    "        ----------\n",
    "            item_name : str\n",
    "                name of the item to be replaced\n",
    "                \n",
    "            new_item_name : str\n",
    "                new name of the item\n",
    "        '''\n",
    "        self.item_name = str(item_name)\n",
    "        self.new_item_name = str(new_item_name)\n",
    "        \n",
    "        try:\n",
    "            self.order[self.new_item_name] = self.order[self.item_name] # Duplicate the values of the old key to the new one\n",
    "            del self.order[self.item_name] # Delete the old key\n",
    "        except:\n",
    "            print(\"Gagal mengubah nama item. \\nNama item tidak ditemukan\\n\")\n",
    "        self.show_order_table(self.order) # Show the order table\n",
    "        \n",
    "    \n",
    "    # Method to change the quantity of an order item\n",
    "    def update_item_qty(self, item_name, new_item_qty):\n",
    "        '''\n",
    "        Update the quantity of an item.\n",
    "        \n",
    "        Parameters\n",
    "        ----------\n",
    "            item_name : str\n",
    "                name of the item which the quantity to be changed\n",
    "                \n",
    "            new_item_qty : int\n",
    "                the new quantity assigned to the item.\n",
    "        '''\n",
    "        self.item_name = str(item_name)\n",
    "        \n",
    "        try:\n",
    "            self.new_item_qty = int(new_item_qty)\n",
    "            try:\n",
    "                self.order[self.item_name][0] = self.new_item_qty\n",
    "                \n",
    "            except:\n",
    "                print(\"Gagal mengubah jumlah item. \\nNama item tidak ditemukan.\\n\")\n",
    "        except:\n",
    "            print(\"Jumlah item harus berupa angka.\\n\")\n",
    "        self.show_order_table(self.order) # Show the order table\n",
    "        \n",
    "    \n",
    "    # Method to change the price of an order item\n",
    "    def update_item_price(self, item_name, new_item_price):\n",
    "        '''\n",
    "        Update the price of an order item.\n",
    "        \n",
    "        Parameters\n",
    "        ----------\n",
    "            item_name : str\n",
    "                name of the item which the quantity to be changed\n",
    "                \n",
    "            new_item_qty : int\n",
    "                the new quantity assigned to the item.\n",
    "        '''\n",
    "        self.item_name = str(item_name)\n",
    "        \n",
    "        try:\n",
    "            self.new_item_price = int(new_item_price)\n",
    "            try:\n",
    "                self.order[self.item_name][1] = self.new_item_price\n",
    "            except:\n",
    "                print(\"Gagal mengubah harga. \\nNama item tidak ditemukan.\\n\")\n",
    "        except:\n",
    "            print(\"Harga item harus berupa angka.\\n\")\n",
    "        self.show_order_table(self.order) # Show the order table\n",
    "        \n",
    "        \n",
    "    \n",
    "    # Method to delete an order item (its key and values)\n",
    "    def delete_item(self, item_name):\n",
    "        '''\n",
    "        Delete an item by its name.\n",
    "        \n",
    "        Parameters\n",
    "        ----------\n",
    "            item_name : str\n",
    "                Item name you want to delete.\n",
    "        '''\n",
    "        self.item_name = str(item_name)\n",
    "        try:\n",
    "            del self.order[self.item_name]\n",
    "        except:\n",
    "            print(\"Gagal menghapus item. \\nNama item tidak ditemukan.\\n\")\n",
    "        self.show_order_table(self.order) # Show the order table\n",
    "        \n",
    "        \n",
    "    \n",
    "    # Method to delete all order items\n",
    "    def reset_transaction(self):\n",
    "        '''\n",
    "        Delete all the items in the transaction.\n",
    "        '''\n",
    "        order_items = {}\n",
    "        self.order = order_items\n",
    "        self.show_order_table(self.order) # Show the order table\n",
    "    \n",
    "    \n",
    "    def check_order(self):\n",
    "        '''\n",
    "        Check whether the values inputted to the order items are correct or not.\n",
    "        '''\n",
    "        for key, value in self.order.items():\n",
    "            item_name = key\n",
    "            item_qty = value[0]\n",
    "            item_price = value[1]\n",
    "            \n",
    "            if type(item_name) == str and type(item_qty) == int and type(item_price) == int:\n",
    "                print(f\"[v] {item_name :<12}: data sudah sesuai.\")           \n",
    "            else:\n",
    "                if type(item_name) != str:\n",
    "                    print(f\"[x] {item_name :<12}: nama barang harus berupa teks.\")\n",
    "                else:\n",
    "                    pass   \n",
    "                \n",
    "                if type(item_qty) != int:\n",
    "                    print(f\"[x] {item_name :<12}: jumlah item harus berupa angka.\")\n",
    "                else:\n",
    "                    pass\n",
    "\n",
    "                if type(item_price) != int:\n",
    "                    print(f\"[x] {item_name :<12}: harga item harus berupa angka.\")\n",
    "                else:\n",
    "                    pass\n",
    "            \n",
    "    \n",
    "    \n",
    "    # Method to calculate the total price of the order items\n",
    "    def total_price(self):\n",
    "        '''\n",
    "        Check the total price of all order items of the transaction.\n",
    "        '''\n",
    "        self.total_price = 0\n",
    "        for value in self.order.values():\n",
    "            item_qty = value[0]\n",
    "            item_price = value[1]\n",
    "            self.total_price += (item_qty * item_price)\n",
    "            \n",
    "        self.is_discounted(self.total_price)\n",
    "        \n",
    "    \n",
    "    # Method to check whether a transaction gets a discount or not\n",
    "    def is_discounted(self, total_price):\n",
    "        '''\n",
    "        Check whether a transaction will be dicounted or not.\n",
    "        \n",
    "        Parameters\n",
    "        ----------\n",
    "            total_price : int\n",
    "                The total price of the transaction.\n",
    "        '''\n",
    "        self.total_price = total_price\n",
    "        if self.total_price > 500000:\n",
    "            is_discounted = True\n",
    "            discount = \"10%\"\n",
    "            discounted_price = total_price * (1 - 0.1)\n",
    "        elif total_price > 300000:\n",
    "            is_discounted = True\n",
    "            discount = \"8%\"\n",
    "            discounted_price = total_price * (1 - 0.08)\n",
    "        elif total_price > 200000:\n",
    "            is_discounted = True\n",
    "            discount = \"5%\"\n",
    "            discounted_price = total_price * (1 - 0.05)\n",
    "        else:\n",
    "            is_discounted = False\n",
    "        \n",
    "        if is_discounted == True:\n",
    "            print(f\"Total belanja Anda: Rp{total_price}.\")\n",
    "            print(f\"Anda mendapat diskon {discount}.\")\n",
    "            print(f\"Anda hanya perlu membayar: Rp{discounted_price}.\")\n",
    "        else:\n",
    "            print(f\"Total belanja Anda: Rp{total_price}.\")\n",
    "            print(\"Belanja di atas Rp200.000 untuk mendapat diskon.\")"
   ]
  },
  {
   "cell_type": "markdown",
   "id": "52840e97",
   "metadata": {},
   "source": [
    "## Create a new object from the Class"
   ]
  },
  {
   "cell_type": "code",
   "execution_count": 810,
   "id": "17ac9d15",
   "metadata": {},
   "outputs": [
    {
     "name": "stdout",
     "output_type": "stream",
     "text": [
      "|No  |Nama Item   | Jumlah Item|  Harga/Item| Harga Total|\n"
     ]
    }
   ],
   "source": [
    "trnsct_123 = Transaction()"
   ]
  },
  {
   "cell_type": "markdown",
   "id": "cf66b921",
   "metadata": {},
   "source": [
    "## Add item: Semangka x3 @15.000"
   ]
  },
  {
   "cell_type": "code",
   "execution_count": 811,
   "id": "e0d79ea8",
   "metadata": {},
   "outputs": [
    {
     "name": "stdout",
     "output_type": "stream",
     "text": [
      "|No  |Nama Item   | Jumlah Item|  Harga/Item| Harga Total|\n",
      "|1   |Semangka    |           3|       15000|       45000|\n"
     ]
    }
   ],
   "source": [
    "trnsct_123.add_item(\"Semangka\", 3, 15000)"
   ]
  },
  {
   "cell_type": "code",
   "execution_count": 812,
   "id": "05d08599",
   "metadata": {
    "scrolled": true
   },
   "outputs": [
    {
     "name": "stdout",
     "output_type": "stream",
     "text": [
      "{'Semangka': [3, 15000]}\n"
     ]
    }
   ],
   "source": [
    "print(trnsct_123.order)"
   ]
  },
  {
   "cell_type": "markdown",
   "id": "ef8a0bdd",
   "metadata": {},
   "source": [
    "## Add item: Kemoceng x2 @10.000"
   ]
  },
  {
   "cell_type": "code",
   "execution_count": 813,
   "id": "845b6dca",
   "metadata": {},
   "outputs": [
    {
     "name": "stdout",
     "output_type": "stream",
     "text": [
      "|No  |Nama Item   | Jumlah Item|  Harga/Item| Harga Total|\n",
      "|1   |Semangka    |           3|       15000|       45000|\n",
      "|2   |Kemoceng    |           2|       10000|       20000|\n"
     ]
    }
   ],
   "source": [
    "trnsct_123.add_item(\"Kemoceng\", 2, 10000)"
   ]
  },
  {
   "cell_type": "code",
   "execution_count": 814,
   "id": "0fdda1cf",
   "metadata": {},
   "outputs": [
    {
     "name": "stdout",
     "output_type": "stream",
     "text": [
      "|No  |Nama Item   | Jumlah Item|  Harga/Item| Harga Total|\n",
      "|1   |Semangka    |           3|       15000|       45000|\n",
      "|2   |Kemoceng    |           2|       10000|       20000|\n"
     ]
    }
   ],
   "source": [
    "order_2 = Transaction()"
   ]
  },
  {
   "cell_type": "code",
   "execution_count": 815,
   "id": "7cbeb985",
   "metadata": {},
   "outputs": [
    {
     "name": "stdout",
     "output_type": "stream",
     "text": [
      "|No  |Nama Item   | Jumlah Item|  Harga/Item| Harga Total|\n",
      "|1   |Semangka    |           3|       15000|       45000|\n",
      "|2   |Kemoceng    |           2|       10000|       20000|\n",
      "|3   |Keju        |           2|        4000|        8000|\n"
     ]
    }
   ],
   "source": [
    "order_2.add_item(\"Keju\", 2, 4000)"
   ]
  },
  {
   "cell_type": "code",
   "execution_count": 816,
   "id": "2645a84c",
   "metadata": {},
   "outputs": [
    {
     "name": "stdout",
     "output_type": "stream",
     "text": [
      "{'Semangka': [3, 15000], 'Kemoceng': [2, 10000], 'Keju': [2, 4000]}\n"
     ]
    }
   ],
   "source": [
    "print(order_2.order)"
   ]
  },
  {
   "cell_type": "code",
   "execution_count": 817,
   "id": "5bba9855",
   "metadata": {},
   "outputs": [
    {
     "name": "stdout",
     "output_type": "stream",
     "text": [
      "{'Semangka': [3, 15000], 'Kemoceng': [2, 10000], 'Keju': [2, 4000]}\n"
     ]
    }
   ],
   "source": [
    "print(trnsct_123.order)"
   ]
  },
  {
   "cell_type": "markdown",
   "id": "3c1ed83e",
   "metadata": {},
   "source": [
    "## Update item name: Semangka -> Keju"
   ]
  },
  {
   "cell_type": "code",
   "execution_count": 818,
   "id": "0a946e06",
   "metadata": {},
   "outputs": [
    {
     "name": "stdout",
     "output_type": "stream",
     "text": [
      "|No  |Nama Item   | Jumlah Item|  Harga/Item| Harga Total|\n",
      "|1   |Kemoceng    |           2|       10000|       20000|\n",
      "|2   |Keju        |           3|       15000|       45000|\n"
     ]
    }
   ],
   "source": [
    "trnsct_123.update_item_name(\"Semangka\", \"Keju\")"
   ]
  },
  {
   "cell_type": "markdown",
   "id": "2d2d9088",
   "metadata": {},
   "source": [
    "## Update item qty: Keju x3 -> x5"
   ]
  },
  {
   "cell_type": "code",
   "execution_count": 819,
   "id": "59f7fba3",
   "metadata": {
    "scrolled": false
   },
   "outputs": [
    {
     "name": "stdout",
     "output_type": "stream",
     "text": [
      "|No  |Nama Item   | Jumlah Item|  Harga/Item| Harga Total|\n",
      "|1   |Kemoceng    |           2|       10000|       20000|\n",
      "|2   |Keju        |           5|       15000|       75000|\n"
     ]
    }
   ],
   "source": [
    "trnsct_123.update_item_qty(\"Keju\", 5)"
   ]
  },
  {
   "cell_type": "markdown",
   "id": "9b340a7b",
   "metadata": {},
   "source": [
    "## Update item price: Keju @15.000 -> @25.000"
   ]
  },
  {
   "cell_type": "code",
   "execution_count": 820,
   "id": "b7f39bc3",
   "metadata": {},
   "outputs": [
    {
     "name": "stdout",
     "output_type": "stream",
     "text": [
      "|No  |Nama Item   | Jumlah Item|  Harga/Item| Harga Total|\n",
      "|1   |Kemoceng    |           2|       10000|       20000|\n",
      "|2   |Keju        |           5|       25000|      125000|\n"
     ]
    }
   ],
   "source": [
    "trnsct_123.update_item_price(\"Keju\", 25000)"
   ]
  },
  {
   "cell_type": "markdown",
   "id": "9e7d094d",
   "metadata": {},
   "source": [
    "## Delete item: Keju"
   ]
  },
  {
   "cell_type": "code",
   "execution_count": 821,
   "id": "ddb31899",
   "metadata": {
    "scrolled": false
   },
   "outputs": [
    {
     "name": "stdout",
     "output_type": "stream",
     "text": [
      "|No  |Nama Item   | Jumlah Item|  Harga/Item| Harga Total|\n",
      "|1   |Kemoceng    |           2|       10000|       20000|\n"
     ]
    }
   ],
   "source": [
    "trnsct_123.delete_item(\"Keju\")"
   ]
  },
  {
   "cell_type": "markdown",
   "id": "395c14e9",
   "metadata": {},
   "source": [
    "## Add several other items"
   ]
  },
  {
   "cell_type": "code",
   "execution_count": 822,
   "id": "d392bdfd",
   "metadata": {
    "scrolled": true
   },
   "outputs": [
    {
     "name": "stdout",
     "output_type": "stream",
     "text": [
      "|No  |Nama Item   | Jumlah Item|  Harga/Item| Harga Total|\n",
      "|1   |Kemoceng    |           2|       10000|       20000|\n",
      "|2   |Sabun       |           4|        5000|       20000|\n"
     ]
    }
   ],
   "source": [
    "trnsct_123.add_item(\"Sabun\", 4, 5000)"
   ]
  },
  {
   "cell_type": "code",
   "execution_count": 823,
   "id": "3b082de1",
   "metadata": {},
   "outputs": [
    {
     "name": "stdout",
     "output_type": "stream",
     "text": [
      "|No  |Nama Item   | Jumlah Item|  Harga/Item| Harga Total|\n",
      "|1   |Kemoceng    |           2|       10000|       20000|\n",
      "|2   |Sabun       |           4|        5000|       20000|\n",
      "|3   |Odol        |           3|       23000|       69000|\n"
     ]
    }
   ],
   "source": [
    "trnsct_123.add_item(\"Odol\", 3, 23000)"
   ]
  },
  {
   "cell_type": "code",
   "execution_count": 824,
   "id": "c968986e",
   "metadata": {},
   "outputs": [
    {
     "name": "stdout",
     "output_type": "stream",
     "text": [
      "|No  |Nama Item   | Jumlah Item|  Harga/Item| Harga Total|\n",
      "|1   |Kemoceng    |           2|       10000|       20000|\n",
      "|2   |Sabun       |           4|        5000|       20000|\n",
      "|3   |Odol        |           3|       23000|       69000|\n",
      "|4   |12345       |           3|       17000|       51000|\n"
     ]
    }
   ],
   "source": [
    "trnsct_123.add_item(12345, 3, 17000)"
   ]
  },
  {
   "cell_type": "code",
   "execution_count": 825,
   "id": "e04ec269",
   "metadata": {},
   "outputs": [
    {
     "name": "stdout",
     "output_type": "stream",
     "text": [
      "|No  |Nama Item   | Jumlah Item|  Harga/Item| Harga Total|\n",
      "|1   |Kemoceng    |           2|       10000|       20000|\n",
      "|2   |Sabun       |           4|        5000|       20000|\n",
      "|3   |Odol        |           3|       23000|       69000|\n",
      "|4   |12345       |           3|       17000|       51000|\n",
      "|5   |Handuk      |           2|        3000|        6000|\n"
     ]
    }
   ],
   "source": [
    "trnsct_123.add_item(\"Handuk\", \"2\", \"3000\")"
   ]
  },
  {
   "cell_type": "code",
   "execution_count": 826,
   "id": "888e1446",
   "metadata": {},
   "outputs": [
    {
     "name": "stdout",
     "output_type": "stream",
     "text": [
      "Tidak dapat menambahkan item. \n",
      "Jumlah dan harga item harus berupa angka.\n",
      "\n",
      "|No  |Nama Item   | Jumlah Item|  Harga/Item| Harga Total|\n",
      "|1   |Kemoceng    |           2|       10000|       20000|\n",
      "|2   |Sabun       |           4|        5000|       20000|\n",
      "|3   |Odol        |           3|       23000|       69000|\n",
      "|4   |12345       |           3|       17000|       51000|\n",
      "|5   |Handuk      |           2|        3000|        6000|\n"
     ]
    }
   ],
   "source": [
    "trnsct_123.add_item(\"Deterjen\", 5, \"38000a\")"
   ]
  },
  {
   "cell_type": "markdown",
   "id": "1d7836ef",
   "metadata": {},
   "source": [
    "## Check the order items data"
   ]
  },
  {
   "cell_type": "code",
   "execution_count": 827,
   "id": "f3e73b03",
   "metadata": {
    "scrolled": false
   },
   "outputs": [
    {
     "name": "stdout",
     "output_type": "stream",
     "text": [
      "[v] Kemoceng    : data sudah sesuai.\n",
      "[v] Sabun       : data sudah sesuai.\n",
      "[v] Odol        : data sudah sesuai.\n",
      "[v] 12345       : data sudah sesuai.\n",
      "[v] Handuk      : data sudah sesuai.\n"
     ]
    }
   ],
   "source": [
    "trnsct_123.check_order()"
   ]
  },
  {
   "cell_type": "markdown",
   "id": "7ebc39a2",
   "metadata": {},
   "source": [
    "## Correct the false order items"
   ]
  },
  {
   "cell_type": "code",
   "execution_count": 828,
   "id": "1d5789b6",
   "metadata": {},
   "outputs": [
    {
     "name": "stdout",
     "output_type": "stream",
     "text": [
      "Gagal mengubah nama item. \n",
      "Nama item tidak ditemukan\n",
      "\n",
      "|No  |Nama Item   | Jumlah Item|  Harga/Item| Harga Total|\n",
      "|1   |Kemoceng    |           2|       10000|       20000|\n",
      "|2   |Sabun       |           4|        5000|       20000|\n",
      "|3   |Odol        |           3|       23000|       69000|\n",
      "|4   |12345       |           3|       17000|       51000|\n",
      "|5   |Handuk      |           2|        3000|        6000|\n"
     ]
    }
   ],
   "source": [
    "trnsct_123.update_item_name(123, \"Sikat gigi\")"
   ]
  },
  {
   "cell_type": "code",
   "execution_count": 829,
   "id": "3bc503fb",
   "metadata": {},
   "outputs": [
    {
     "name": "stdout",
     "output_type": "stream",
     "text": [
      "|No  |Nama Item   | Jumlah Item|  Harga/Item| Harga Total|\n",
      "|1   |Kemoceng    |           2|       10000|       20000|\n",
      "|2   |Sabun       |           4|        5000|       20000|\n",
      "|3   |Odol        |           3|       23000|       69000|\n",
      "|4   |Handuk      |           2|        3000|        6000|\n",
      "|5   |Sikat gigi  |           3|       17000|       51000|\n"
     ]
    }
   ],
   "source": [
    "trnsct_123.update_item_name(12345, \"Sikat gigi\")"
   ]
  },
  {
   "cell_type": "code",
   "execution_count": 830,
   "id": "1f9176f9",
   "metadata": {},
   "outputs": [
    {
     "name": "stdout",
     "output_type": "stream",
     "text": [
      "|No  |Nama Item   | Jumlah Item|  Harga/Item| Harga Total|\n",
      "|1   |Kemoceng    |           2|       10000|       20000|\n",
      "|2   |Sabun       |           4|        5000|       20000|\n",
      "|3   |Odol        |           3|       23000|       69000|\n",
      "|4   |Handuk      |           2|        3000|        6000|\n",
      "|5   |Sikat gigi  |           3|       17000|       51000|\n"
     ]
    }
   ],
   "source": [
    "trnsct_123.update_item_qty(\"Handuk\", 2)"
   ]
  },
  {
   "cell_type": "code",
   "execution_count": 831,
   "id": "8e57e237",
   "metadata": {},
   "outputs": [
    {
     "name": "stdout",
     "output_type": "stream",
     "text": [
      "Gagal mengubah harga. \n",
      "Nama item tidak ditemukan.\n",
      "\n",
      "|No  |Nama Item   | Jumlah Item|  Harga/Item| Harga Total|\n",
      "|1   |Kemoceng    |           2|       10000|       20000|\n",
      "|2   |Sabun       |           4|        5000|       20000|\n",
      "|3   |Odol        |           3|       23000|       69000|\n",
      "|4   |Handuk      |           2|        3000|        6000|\n",
      "|5   |Sikat gigi  |           3|       17000|       51000|\n"
     ]
    }
   ],
   "source": [
    "trnsct_123.update_item_price(\"Deterjen\", 38000)"
   ]
  },
  {
   "cell_type": "markdown",
   "id": "df06797f",
   "metadata": {},
   "source": [
    "## Re-check the data"
   ]
  },
  {
   "cell_type": "code",
   "execution_count": 832,
   "id": "18e19a87",
   "metadata": {
    "scrolled": true
   },
   "outputs": [
    {
     "name": "stdout",
     "output_type": "stream",
     "text": [
      "[v] Kemoceng    : data sudah sesuai.\n",
      "[v] Sabun       : data sudah sesuai.\n",
      "[v] Odol        : data sudah sesuai.\n",
      "[v] Handuk      : data sudah sesuai.\n",
      "[v] Sikat gigi  : data sudah sesuai.\n"
     ]
    }
   ],
   "source": [
    "trnsct_123.check_order()"
   ]
  },
  {
   "cell_type": "markdown",
   "id": "0df92d71",
   "metadata": {},
   "source": [
    "## Get the total transaction cost"
   ]
  },
  {
   "cell_type": "code",
   "execution_count": 833,
   "id": "ca7caf5a",
   "metadata": {},
   "outputs": [
    {
     "name": "stdout",
     "output_type": "stream",
     "text": [
      "Total belanja Anda: Rp166000.\n",
      "Belanja di atas Rp200.000 untuk mendapat diskon.\n"
     ]
    }
   ],
   "source": [
    "trnsct_123.total_price()"
   ]
  },
  {
   "cell_type": "markdown",
   "id": "1e873180",
   "metadata": {},
   "source": [
    "## Reset Transaction"
   ]
  },
  {
   "cell_type": "code",
   "execution_count": 834,
   "id": "39355f71",
   "metadata": {
    "scrolled": true
   },
   "outputs": [
    {
     "name": "stdout",
     "output_type": "stream",
     "text": [
      "|No  |Nama Item   | Jumlah Item|  Harga/Item| Harga Total|\n"
     ]
    }
   ],
   "source": [
    "trnsct_123.reset_transaction()"
   ]
  },
  {
   "cell_type": "markdown",
   "id": "6c86dc20",
   "metadata": {},
   "source": [
    "## Testing the Docstring"
   ]
  },
  {
   "cell_type": "code",
   "execution_count": 835,
   "id": "37fce552",
   "metadata": {},
   "outputs": [
    {
     "name": "stdout",
     "output_type": "stream",
     "text": [
      "\n",
      "        Delete all the items in the transaction.\n",
      "        \n"
     ]
    }
   ],
   "source": [
    "print(Transaction.reset_transaction.__doc__)"
   ]
  },
  {
   "cell_type": "code",
   "execution_count": 836,
   "id": "b5eb88fe",
   "metadata": {
    "scrolled": true
   },
   "outputs": [
    {
     "name": "stdout",
     "output_type": "stream",
     "text": [
      "\n",
      "        Delete all the items in the transaction.\n",
      "        \n"
     ]
    }
   ],
   "source": [
    "print(Transaction.reset_transaction.__doc__)"
   ]
  },
  {
   "cell_type": "code",
   "execution_count": 837,
   "id": "e0f204e8",
   "metadata": {},
   "outputs": [
    {
     "name": "stdout",
     "output_type": "stream",
     "text": [
      "\n",
      "    Attributes\n",
      "    ----------\n",
      "    order_items = {}\n",
      "        Dictionary containing the items ordered for the transaction.\n",
      "    \n",
      "    Methods\n",
      "    --------\n",
      "    show_order_table(order_items): \n",
      "        Show the list of items ordered as a table.\n",
      "        \n",
      "    add_item(item_name, item_qty, item_price):\n",
      "        Add an item to the transaction.\n",
      "\n",
      "    update_item_name(item_name, new_item_name): \n",
      "        Update the name of an item.\n",
      "\n",
      "    update_item_qty(item_name, new_item_qty): \n",
      "        Update the quantity of an item.\n",
      "        \n",
      "    update_item_price(item_name, new_item_price): \n",
      "        Update the price of an item.\n",
      "    \n",
      "    delete_item(item_name): \n",
      "        Delete an item by its name.\n",
      "        \n",
      "    reset_transaction(): \n",
      "        Delete all the items in the transaction.\n",
      "\n",
      "    check_order(): \n",
      "        Check whether the values inputted to the transaction are correct or not.\n",
      "    \n",
      "    total_price(): \n",
      "        Check the total price of all items ordered for the transaction.\n",
      "    \n",
      "    is_discounted(total_price): \n",
      "        Check whether a transaction will be dicounted or not.\n",
      "    \n"
     ]
    }
   ],
   "source": [
    "print(Transaction.__doc__)"
   ]
  },
  {
   "cell_type": "code",
   "execution_count": 838,
   "id": "dfa65c26",
   "metadata": {
    "scrolled": true
   },
   "outputs": [
    {
     "name": "stdout",
     "output_type": "stream",
     "text": [
      "\n",
      "        Show the list of the items ordered for the transaction as a table.\n",
      "        \n",
      "        Parameters\n",
      "        ----------\n",
      "            order_items : dict\n",
      "                dict of items ordered for the transaction\n",
      "        \n"
     ]
    }
   ],
   "source": [
    "print(Transaction.show_order_table.__doc__)"
   ]
  },
  {
   "cell_type": "code",
   "execution_count": 839,
   "id": "0ee907da",
   "metadata": {},
   "outputs": [
    {
     "name": "stdout",
     "output_type": "stream",
     "text": [
      "Tidak dapat menambahkan item. \n",
      "Jumlah dan harga item harus berupa angka.\n",
      "\n",
      "|No  |Nama Item   | Jumlah Item|  Harga/Item| Harga Total|\n"
     ]
    }
   ],
   "source": [
    "trnsct_123.add_item(1,2,\"asdf\")"
   ]
  },
  {
   "cell_type": "code",
   "execution_count": null,
   "id": "d0d81777",
   "metadata": {},
   "outputs": [],
   "source": []
  }
 ],
 "metadata": {
  "kernelspec": {
   "display_name": "Python 3 (ipykernel)",
   "language": "python",
   "name": "python3"
  },
  "language_info": {
   "codemirror_mode": {
    "name": "ipython",
    "version": 3
   },
   "file_extension": ".py",
   "mimetype": "text/x-python",
   "name": "python",
   "nbconvert_exporter": "python",
   "pygments_lexer": "ipython3",
   "version": "3.9.12"
  },
  "vscode": {
   "interpreter": {
    "hash": "b0fa6594d8f4cbf19f97940f81e996739fb7646882a419484c72d19e05852a7e"
   }
  }
 },
 "nbformat": 4,
 "nbformat_minor": 5
}
